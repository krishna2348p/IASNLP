{
 "cells": [
  {
   "cell_type": "code",
   "execution_count": 1,
   "metadata": {},
   "outputs": [
    {
     "name": "stdout",
     "output_type": "stream",
     "text": [
      "completed\n"
     ]
    }
   ],
   "source": [
    "from transformers import BartForConditionalGeneration, BartTokenizer, DataCollatorForSeq2Seq\n",
    "from datasets import load_dataset, Dataset, load_metric\n",
    "import torch\n",
    "\n",
    "# Define file paths (modify if necessary)\n",
    "train_file_src = \"./train.src.cleaned\"\n",
    "train_file_tgt = \"./train.tgt\""
   ]
  },
  {
   "cell_type": "code",
   "execution_count": 19,
   "metadata": {},
   "outputs": [
    {
     "name": "stdout",
     "output_type": "stream",
     "text": [
      "1000\n",
      "1000\n",
      "completed\n"
     ]
    }
   ],
   "source": [
    "def load_text_data(src_file, tgt_file=None,size=1000):\n",
    "    src_lines = open(src_file, encoding=\"utf-8\").read().strip().split(\"\\n\")\n",
    "    src_lines = src_lines[0:size]\n",
    "    for line in src_lines:\n",
    "        line.replace('|||||', ' ')\n",
    "    if tgt_file:\n",
    "        tgt_lines = open(tgt_file, encoding=\"utf-8\").read().strip().split(\"\\n\")\n",
    "        tgt_lines = tgt_lines[0:size]\n",
    "        print(len(src_lines))\n",
    "        print(len(tgt_lines))\n",
    "        assert len(src_lines) == len(tgt_lines), \"Source and target files should have the same number of lines.\"\n",
    "        return {\"src\": src_lines, \"tgt\": tgt_lines}\n",
    "    return {\"src\": src_lines}\n",
    "\n",
    "train_data = load_text_data(train_file_src, train_file_tgt)\n",
    "\n",
    "# Convert to Hugging Face Dataset\n",
    "train_dataset = Dataset.from_dict(train_data)\n"
   ]
  },
  {
   "cell_type": "code",
   "execution_count": 4,
   "metadata": {},
   "outputs": [
    {
     "data": {
      "application/vnd.jupyter.widget-view+json": {
       "model_id": "099d610b337244c181b64caab87c564e",
       "version_major": 2,
       "version_minor": 0
      },
      "text/plain": [
       "Map:   0%|          | 0/1000 [00:00<?, ? examples/s]"
      ]
     },
     "metadata": {},
     "output_type": "display_data"
    },
    {
     "name": "stderr",
     "output_type": "stream",
     "text": [
      "C:\\Users\\krishna\\AppData\\Local\\Programs\\Python\\Python312\\Lib\\site-packages\\transformers\\tokenization_utils_base.py:4016: UserWarning: `as_target_tokenizer` is deprecated and will be removed in v5 of Transformers. You can tokenize your labels by using the argument `text_target` of the regular `__call__` method (either in the same call as your input texts if you use the same keyword arguments, or in a separate call.\n",
      "  warnings.warn(\n"
     ]
    },
    {
     "name": "stdout",
     "output_type": "stream",
     "text": [
      "{'input_ids': [0, 18285, 26844, 5178, 28302, 1215, 29146, 5178, 28302, 1215, 29146, 3216, 6, 24, 17, 27, 29, 14, 86, 456, 6, 5450, 4, 85, 17, 27, 29, 5, 78, 273, 9, 5, 353, 6, 77, 13, 65, 655, 12, 2527, 12, 428, 24062, 1151, 5, 3168, 9, 2298, 852, 6, 663, 8, 4326, 852, 32, 70, 14485, 15, 65, 631, 35, 13499, 4, 5178, 28302, 1215, 29146, 5178, 28302, 1215, 29146, 83, 2310, 2935, 15, 5, 121, 4, 104, 4, 4042, 1068, 13, 644, 2323, 5, 22893, 23, 290, 35, 541, 10, 4, 119, 4, 188, 469, 86, 1839, 65, 9, 5, 144, 505, 40617, 15, 141, 5, 866, 24779, 148, 5, 986, 353, 4, 12809, 1635, 32, 13, 23041, 6, 151, 92, 1315, 7, 28, 1412, 6, 309, 7, 9019, 13829, 30, 4614, 1454, 188, 4184, 7948, 6, 1118, 7, 30398, 6, 151, 1315, 355, 11, 902, 4, 20, 5755, 731, 16, 421, 7, 946, 5204, 23, 290, 4, 246, 2153, 5178, 28302, 1215, 29146, 5178, 28302, 1215, 29146, 1398, 23, 1018, 5522, 21956, 6, 52, 17, 27, 890, 28, 1839, 3195, 9765, 137, 8, 71, 5, 414, 20238, 5, 22893, 4, 22079, 481, 7, 9832, 12, 179, 2512, 6, 1241, 5, 1450, 2810, 4, 178, 150, 47, 17, 27, 241, 259, 6, 596, 218, 17, 27, 90, 47, 1203, 62, 7, 1407, 201, 15, 599, 4, 5178, 28302, 1215, 29146, 5178, 28302, 1215, 29146, 16013, 5, 311, 4, 45056, 49085, 15483, 23564, 268, 2468, 124, 8104, 15, 5947, 94, 353, 6, 10, 8306, 14, 5, 121, 4, 104, 4, 866, 189, 45, 28, 1197, 1769, 615, 7, 9844, 6295, 633, 434, 4, 20, 5755, 731, 13809, 6, 53, 2260, 142, 55, 1791, 2294, 546, 13, 173, 4, 5178, 28302, 1215, 29146, 5178, 28302, 1215, 29146, 20, 6338, 641, 161, 5, 866, 355, 5962, 6, 151, 1315, 11, 494, 6, 159, 31, 55, 87, 1878, 6, 151, 11, 349, 9, 5, 986, 130, 377, 4, 5178, 28302, 1215, 29146, 5178, 28302, 1215, 29146, 20, 5755, 731, 1064, 7, 290, 4, 176, 135, 6, 5, 3912, 187, 644, 2338, 4, 20, 731, 1882, 142, 4163, 82, 10593, 13, 1315, 4, 20, 781, 5755, 11154, 129, 1171, 167, 1818, 173, 4, 5178, 28302, 1215, 29146, 5178, 28302, 1215, 29146, 20, 866, 34, 355, 290, 4432, 6, 151, 1315, 187, 719, 18134, 5, 275, 237, 377, 9, 5947, 11, 80, 107, 4, 125, 1853, 3965, 3356, 1664, 6552, 23578, 34, 13335, 14, 5, 595, 5947, 2877, 16, 3752, 7, 535, 396, 55, 2267, 1408, 4, 2, 1, 1, 1, 1, 1, 1, 1, 1, 1, 1, 1, 1, 1, 1, 1, 1, 1, 1, 1, 1, 1, 1, 1, 1, 1, 1, 1, 1, 1, 1, 1, 1, 1, 1, 1, 1, 1, 1, 1, 1, 1, 1, 1, 1, 1, 1, 1, 1, 1, 1, 1, 1, 1, 1, 1, 1, 1, 1, 1, 1, 1, 1, 1, 1, 1, 1, 1, 1, 1, 1, 1, 1, 1, 1, 1, 1, 1, 1, 1, 1, 1, 1, 1, 1, 1, 1, 1, 1], 'attention_mask': [1, 1, 1, 1, 1, 1, 1, 1, 1, 1, 1, 1, 1, 1, 1, 1, 1, 1, 1, 1, 1, 1, 1, 1, 1, 1, 1, 1, 1, 1, 1, 1, 1, 1, 1, 1, 1, 1, 1, 1, 1, 1, 1, 1, 1, 1, 1, 1, 1, 1, 1, 1, 1, 1, 1, 1, 1, 1, 1, 1, 1, 1, 1, 1, 1, 1, 1, 1, 1, 1, 1, 1, 1, 1, 1, 1, 1, 1, 1, 1, 1, 1, 1, 1, 1, 1, 1, 1, 1, 1, 1, 1, 1, 1, 1, 1, 1, 1, 1, 1, 1, 1, 1, 1, 1, 1, 1, 1, 1, 1, 1, 1, 1, 1, 1, 1, 1, 1, 1, 1, 1, 1, 1, 1, 1, 1, 1, 1, 1, 1, 1, 1, 1, 1, 1, 1, 1, 1, 1, 1, 1, 1, 1, 1, 1, 1, 1, 1, 1, 1, 1, 1, 1, 1, 1, 1, 1, 1, 1, 1, 1, 1, 1, 1, 1, 1, 1, 1, 1, 1, 1, 1, 1, 1, 1, 1, 1, 1, 1, 1, 1, 1, 1, 1, 1, 1, 1, 1, 1, 1, 1, 1, 1, 1, 1, 1, 1, 1, 1, 1, 1, 1, 1, 1, 1, 1, 1, 1, 1, 1, 1, 1, 1, 1, 1, 1, 1, 1, 1, 1, 1, 1, 1, 1, 1, 1, 1, 1, 1, 1, 1, 1, 1, 1, 1, 1, 1, 1, 1, 1, 1, 1, 1, 1, 1, 1, 1, 1, 1, 1, 1, 1, 1, 1, 1, 1, 1, 1, 1, 1, 1, 1, 1, 1, 1, 1, 1, 1, 1, 1, 1, 1, 1, 1, 1, 1, 1, 1, 1, 1, 1, 1, 1, 1, 1, 1, 1, 1, 1, 1, 1, 1, 1, 1, 1, 1, 1, 1, 1, 1, 1, 1, 1, 1, 1, 1, 1, 1, 1, 1, 1, 1, 1, 1, 1, 1, 1, 1, 1, 1, 1, 1, 1, 1, 1, 1, 1, 1, 1, 1, 1, 1, 1, 1, 1, 1, 1, 1, 1, 1, 1, 1, 1, 1, 1, 1, 1, 1, 1, 1, 1, 1, 1, 1, 1, 1, 1, 1, 1, 1, 1, 1, 1, 1, 1, 1, 1, 1, 1, 1, 1, 1, 1, 1, 1, 1, 1, 1, 1, 1, 1, 1, 1, 1, 1, 1, 1, 1, 1, 1, 1, 1, 1, 1, 1, 1, 1, 1, 1, 1, 1, 1, 1, 1, 1, 1, 1, 1, 1, 1, 1, 1, 1, 1, 1, 1, 1, 1, 1, 1, 1, 1, 1, 1, 0, 0, 0, 0, 0, 0, 0, 0, 0, 0, 0, 0, 0, 0, 0, 0, 0, 0, 0, 0, 0, 0, 0, 0, 0, 0, 0, 0, 0, 0, 0, 0, 0, 0, 0, 0, 0, 0, 0, 0, 0, 0, 0, 0, 0, 0, 0, 0, 0, 0, 0, 0, 0, 0, 0, 0, 0, 0, 0, 0, 0, 0, 0, 0, 0, 0, 0, 0, 0, 0, 0, 0, 0, 0, 0, 0, 0, 0, 0, 0, 0, 0, 0, 0, 0, 0, 0, 0], 'labels': [0, 2383, 20, 5755, 731, 1882, 7, 290, 4, 176, 207, 94, 353, 6, 53, 5, 866, 129, 355, 5962, 6, 151, 1315, 6, 77, 23041, 6, 151, 92, 1315, 56, 57, 6126, 6, 309, 7, 452, 18, 1315, 266, 4, 39067, 15, 5, 2298, 852, 3642, 18, 1018, 5522, 21617, 21, 14975, 35, 22, 44055, 895, 16506, 5654, 346, 72, 20, 5755, 731, 6, 959, 6, 16, 357, 340, 131, 24, 56, 57, 421, 7, 946, 5204, 23, 290, 4, 246, 2153, 125, 5, 1480, 2775, 14, 5, 10645, 16, 2260, 528, 7, 55, 1791, 1311, 62, 15, 1818, 4042, 4, 2, 1, 1, 1, 1, 1, 1, 1, 1, 1, 1, 1, 1, 1, 1, 1, 1, 1, 1, 1, 1, 1, 1, 1, 1, 1]}\n",
      "completed\n"
     ]
    }
   ],
   "source": [
    "from torch.utils.data import DataLoader\n",
    "\n",
    "tokenizer = BartTokenizer.from_pretrained(\"facebook/bart-base\")\n",
    "\n",
    "# Preprocess data (tokenization, truncation, padding)\n",
    "def preprocess_function(examples):\n",
    "    inputs = tokenizer(examples[\"src\"], truncation=True, padding=\"max_length\", max_length=512)\n",
    "    if \"tgt\" in examples:\n",
    "        with tokenizer.as_target_tokenizer():\n",
    "            labels = tokenizer(examples[\"tgt\"], truncation=True, padding=\"max_length\", max_length=128)\n",
    "        inputs[\"labels\"] = labels[\"input_ids\"]\n",
    "    return inputs\n",
    "\n",
    "train_dataset = train_dataset.map(preprocess_function, batched=True)\n",
    "# test_dataset = test_dataset.map(preprocess_function, batched=True)\n",
    "train_dataset = train_dataset.remove_columns([\"src\", \"tgt\"])\n",
    "for data in train_dataset:\n",
    "    print(data)\n",
    "    break\n",
    "\n",
    "train_dataset.set_format(type=\"torch\")\n"
   ]
  },
  {
   "cell_type": "code",
   "execution_count": 5,
   "metadata": {},
   "outputs": [
    {
     "name": "stdout",
     "output_type": "stream",
     "text": [
      "0\n",
      "Epoch 1, Loss: 3.849430799484253\n",
      "1\n",
      "Epoch 1, Loss: 3.652371644973755\n",
      "2\n",
      "Epoch 1, Loss: 4.0699052810668945\n",
      "3\n",
      "Epoch 1, Loss: 3.362576961517334\n",
      "4\n",
      "Epoch 1, Loss: 3.451690673828125\n",
      "5\n",
      "Epoch 1, Loss: 3.539350986480713\n",
      "6\n",
      "Epoch 1, Loss: 3.573878526687622\n",
      "7\n",
      "Epoch 1, Loss: 3.660527467727661\n",
      "8\n",
      "Epoch 1, Loss: 2.964665412902832\n",
      "9\n",
      "Epoch 1, Loss: 3.4175338745117188\n",
      "10\n",
      "Epoch 1, Loss: 3.120920419692993\n",
      "11\n",
      "Epoch 1, Loss: 3.5812206268310547\n",
      "12\n",
      "Epoch 1, Loss: 3.3877320289611816\n",
      "13\n",
      "Epoch 1, Loss: 3.3772664070129395\n",
      "14\n",
      "Epoch 1, Loss: 3.6474785804748535\n",
      "15\n",
      "Epoch 1, Loss: 3.1023521423339844\n",
      "16\n",
      "Epoch 1, Loss: 3.074369192123413\n",
      "17\n",
      "Epoch 1, Loss: 3.6556785106658936\n",
      "18\n",
      "Epoch 1, Loss: 3.1568048000335693\n",
      "19\n",
      "Epoch 1, Loss: 3.057084321975708\n",
      "20\n",
      "Epoch 1, Loss: 3.375124454498291\n",
      "21\n",
      "Epoch 1, Loss: 3.566352128982544\n",
      "22\n",
      "Epoch 1, Loss: 3.172957420349121\n",
      "23\n",
      "Epoch 1, Loss: 3.26172137260437\n",
      "24\n",
      "Epoch 1, Loss: 3.1798205375671387\n",
      "25\n",
      "Epoch 1, Loss: 3.230856418609619\n",
      "26\n",
      "Epoch 1, Loss: 3.6109395027160645\n",
      "27\n",
      "Epoch 1, Loss: 3.5932936668395996\n",
      "28\n",
      "Epoch 1, Loss: 3.42586088180542\n",
      "29\n",
      "Epoch 1, Loss: 3.2185873985290527\n",
      "30\n",
      "Epoch 1, Loss: 3.4330248832702637\n",
      "31\n",
      "Epoch 1, Loss: 3.2326693534851074\n",
      "32\n",
      "Epoch 1, Loss: 2.9576351642608643\n",
      "33\n",
      "Epoch 1, Loss: 3.3683860301971436\n",
      "34\n",
      "Epoch 1, Loss: 3.2739949226379395\n",
      "35\n",
      "Epoch 1, Loss: 3.4944567680358887\n",
      "36\n",
      "Epoch 1, Loss: 2.7800538539886475\n",
      "37\n",
      "Epoch 1, Loss: 2.9921813011169434\n",
      "38\n",
      "Epoch 1, Loss: 3.1232194900512695\n",
      "39\n",
      "Epoch 1, Loss: 3.231782913208008\n",
      "40\n",
      "Epoch 1, Loss: 3.2902283668518066\n",
      "41\n",
      "Epoch 1, Loss: 3.4768614768981934\n",
      "42\n",
      "Epoch 1, Loss: 3.1490020751953125\n",
      "43\n",
      "Epoch 1, Loss: 3.2444825172424316\n",
      "44\n",
      "Epoch 1, Loss: 2.947091579437256\n",
      "45\n",
      "Epoch 1, Loss: 2.920229196548462\n",
      "46\n",
      "Epoch 1, Loss: 3.1854918003082275\n",
      "47\n",
      "Epoch 1, Loss: 3.1864986419677734\n",
      "48\n",
      "Epoch 1, Loss: 3.216698408126831\n",
      "49\n",
      "Epoch 1, Loss: 3.3410556316375732\n",
      "50\n",
      "Epoch 1, Loss: 2.8774468898773193\n",
      "51\n",
      "Epoch 1, Loss: 3.2214291095733643\n",
      "52\n",
      "Epoch 1, Loss: 3.1047754287719727\n",
      "53\n",
      "Epoch 1, Loss: 2.9290919303894043\n",
      "54\n",
      "Epoch 1, Loss: 3.280158281326294\n",
      "55\n",
      "Epoch 1, Loss: 3.1465845108032227\n",
      "56\n",
      "Epoch 1, Loss: 3.543504238128662\n",
      "57\n",
      "Epoch 1, Loss: 3.4042725563049316\n",
      "58\n",
      "Epoch 1, Loss: 3.2202999591827393\n",
      "59\n",
      "Epoch 1, Loss: 3.134047746658325\n",
      "60\n",
      "Epoch 1, Loss: 3.174093246459961\n",
      "61\n",
      "Epoch 1, Loss: 2.5241057872772217\n",
      "62\n",
      "Epoch 1, Loss: 3.222529888153076\n",
      "63\n",
      "Epoch 1, Loss: 3.3431503772735596\n",
      "64\n",
      "Epoch 1, Loss: 3.785121202468872\n",
      "65\n",
      "Epoch 1, Loss: 3.022712230682373\n",
      "66\n",
      "Epoch 1, Loss: 2.6250290870666504\n",
      "67\n",
      "Epoch 1, Loss: 3.427957057952881\n",
      "68\n",
      "Epoch 1, Loss: 2.804230213165283\n",
      "69\n",
      "Epoch 1, Loss: 3.189607858657837\n",
      "70\n",
      "Epoch 1, Loss: 3.1894729137420654\n",
      "71\n",
      "Epoch 1, Loss: 2.6805684566497803\n",
      "72\n",
      "Epoch 1, Loss: 3.328766345977783\n",
      "73\n",
      "Epoch 1, Loss: 3.3986003398895264\n",
      "74\n",
      "Epoch 1, Loss: 2.718240976333618\n",
      "75\n",
      "Epoch 1, Loss: 2.859405994415283\n",
      "76\n",
      "Epoch 1, Loss: 3.227222442626953\n",
      "77\n",
      "Epoch 1, Loss: 3.2831807136535645\n",
      "78\n",
      "Epoch 1, Loss: 2.9470953941345215\n",
      "79\n",
      "Epoch 1, Loss: 3.1829640865325928\n",
      "80\n",
      "Epoch 1, Loss: 2.8805928230285645\n",
      "81\n",
      "Epoch 1, Loss: 3.3045878410339355\n",
      "82\n",
      "Epoch 1, Loss: 3.107221841812134\n",
      "83\n",
      "Epoch 1, Loss: 3.5449390411376953\n",
      "84\n",
      "Epoch 1, Loss: 4.084008693695068\n",
      "85\n",
      "Epoch 1, Loss: 2.8557004928588867\n",
      "86\n",
      "Epoch 1, Loss: 3.0433032512664795\n",
      "87\n",
      "Epoch 1, Loss: 2.98417329788208\n",
      "88\n",
      "Epoch 1, Loss: 3.2003021240234375\n",
      "89\n",
      "Epoch 1, Loss: 3.1193599700927734\n",
      "90\n",
      "Epoch 1, Loss: 3.138084888458252\n",
      "91\n",
      "Epoch 1, Loss: 3.000812292098999\n",
      "92\n",
      "Epoch 1, Loss: 3.3808999061584473\n",
      "93\n",
      "Epoch 1, Loss: 3.3136019706726074\n",
      "94\n",
      "Epoch 1, Loss: 3.210937976837158\n",
      "95\n",
      "Epoch 1, Loss: 3.1057283878326416\n",
      "96\n",
      "Epoch 1, Loss: 3.2304744720458984\n",
      "97\n",
      "Epoch 1, Loss: 2.9452967643737793\n",
      "98\n",
      "Epoch 1, Loss: 3.366236448287964\n",
      "99\n",
      "Epoch 1, Loss: 3.145247220993042\n",
      "completed\n"
     ]
    }
   ],
   "source": [
    "from torch.optim import AdamW\n",
    "from transformers import get_linear_schedule_with_warmup\n",
    "train_dataloader = DataLoader(train_dataset, batch_size=10, shuffle=True)\n",
    "\n",
    "\n",
    "# Define data collator\n",
    "data_collator = DataCollatorForSeq2Seq(tokenizer, model=BartForConditionalGeneration.from_pretrained(\"facebook/bart-base\"))\n",
    "\n",
    "# Load BART model\n",
    "model = BartForConditionalGeneration.from_pretrained(\"facebook/bart-base\")\n",
    "\n",
    "optimizer = AdamW(model.parameters(), lr=2e-5)\n",
    "num_epochs = 1  # Adjust number of epochs as needed\n",
    "num_training_steps = len(train_dataloader) * num_epochs\n",
    "scheduler = get_linear_schedule_with_warmup(optimizer, num_warmup_steps=0, num_training_steps=num_training_steps)\n",
    "\n",
    "# Define training function\n",
    "def train(model, optimizer, scheduler, data_collator, train_dataloader, num_epochs):\n",
    "    model.train()\n",
    "    for epoch in range(num_epochs):\n",
    "        i=0\n",
    "        for batch in train_dataloader:\n",
    "            batch = {k: v.to(model.device) for k, v in batch.items()}\n",
    "            outputs = model(**batch)\n",
    "            loss = outputs.loss\n",
    "            loss.backward()\n",
    "            optimizer.step()\n",
    "            scheduler.step()\n",
    "            optimizer.zero_grad()\n",
    "            print(i)\n",
    "            i+=1\n",
    "            print(f\"Epoch {epoch + 1}, Loss: {loss.item()}\")\n",
    "\n",
    "device = torch.device(\"cuda\" if torch.cuda.is_available() else \"cpu\")\n",
    "model.to(device)\n",
    "\n",
    "# Train the model\n",
    "train(model, optimizer, scheduler, data_collator, train_dataloader, num_epochs)\n",
    "\n",
    "print(\"completed\")"
   ]
  },
  {
   "cell_type": "code",
   "execution_count": 8,
   "metadata": {},
   "outputs": [
    {
     "name": "stderr",
     "output_type": "stream",
     "text": [
      "Some non-default generation parameters are set in the model config. These should go into a GenerationConfig file (https://huggingface.co/docs/transformers/generation_strategies#save-a-custom-decoding-strategy-with-your-model) instead. This warning will be raised to an exception in v4.41.\n",
      "Non-default generation parameters: {'early_stopping': True, 'num_beams': 4, 'no_repeat_ngram_size': 3, 'forced_bos_token_id': 0, 'forced_eos_token_id': 2}\n"
     ]
    },
    {
     "name": "stdout",
     "output_type": "stream",
     "text": [
      "completed\n"
     ]
    }
   ],
   "source": [
    "model.save_pretrained(\"finetuned_bart_summarization1\")\n",
    "tokenizer.save_pretrained(\"finetuned_bart_summarization1\")\n",
    "print(\"completed\")"
   ]
  },
  {
   "cell_type": "code",
   "execution_count": 17,
   "metadata": {},
   "outputs": [],
   "source": [
    "test_file_src = \"./test.src.cleaned\"\n",
    "test_file_tgt = \"./test.tgt\""
   ]
  },
  {
   "cell_type": "code",
   "execution_count": 30,
   "metadata": {},
   "outputs": [
    {
     "name": "stdout",
     "output_type": "stream",
     "text": [
      "10\n",
      "10\n"
     ]
    }
   ],
   "source": [
    "test_data = load_text_data(test_file_src, test_file_tgt,10)\n",
    "test_dataset = Dataset.from_dict(test_data)"
   ]
  },
  {
   "cell_type": "code",
   "execution_count": 31,
   "metadata": {},
   "outputs": [
    {
     "data": {
      "application/vnd.jupyter.widget-view+json": {
       "model_id": "d6f62ba0a40940db9844708f1e76de0e",
       "version_major": 2,
       "version_minor": 0
      },
      "text/plain": [
       "Map:   0%|          | 0/10 [00:00<?, ? examples/s]"
      ]
     },
     "metadata": {},
     "output_type": "display_data"
    },
    {
     "name": "stderr",
     "output_type": "stream",
     "text": [
      "C:\\Users\\krishna\\AppData\\Local\\Programs\\Python\\Python312\\Lib\\site-packages\\transformers\\tokenization_utils_base.py:4016: UserWarning: `as_target_tokenizer` is deprecated and will be removed in v5 of Transformers. You can tokenize your labels by using the argument `text_target` of the regular `__call__` method (either in the same call as your input texts if you use the same keyword arguments, or in a separate call.\n",
      "  warnings.warn(\n"
     ]
    }
   ],
   "source": [
    "\n",
    "\n",
    "test_dataset = test_dataset.map(preprocess_function, batched=True)\n",
    "\n",
    "test_dataset = test_dataset.remove_columns([\"src\", \"tgt\"])"
   ]
  },
  {
   "cell_type": "code",
   "execution_count": 32,
   "metadata": {},
   "outputs": [],
   "source": [
    "test_dataset.set_format(type=\"torch\")"
   ]
  },
  {
   "cell_type": "code",
   "execution_count": 33,
   "metadata": {},
   "outputs": [],
   "source": [
    "test_dataloader = DataLoader(test_dataset, batch_size=10)"
   ]
  },
  {
   "cell_type": "code",
   "execution_count": 34,
   "metadata": {},
   "outputs": [
    {
     "name": "stderr",
     "output_type": "stream",
     "text": [
      "C:\\Users\\krishna\\AppData\\Local\\Programs\\Python\\Python312\\Lib\\site-packages\\transformers\\generation\\utils.py:1249: UserWarning: Using the model-agnostic default `max_length` (=20) to control the generation length. We recommend setting `max_new_tokens` to control the maximum length of the generation.\n",
      "  warnings.warn(\n"
     ]
    },
    {
     "name": "stdout",
     "output_type": "stream",
     "text": [
      "0\n",
      "rouge started\n",
      "rouge1: 0.1356\n",
      "rouge2: 0.0341\n",
      "rougeL: 0.1053\n",
      "rougeLsum: 0.1047\n",
      "Evaluation completed\n"
     ]
    }
   ],
   "source": [
    "# Evaluate the model\n",
    "def evaluate(model, test_dataloader, tokenizer):\n",
    "    model.eval()\n",
    "    predictions, references = [], []\n",
    "    for batch in test_dataloader:\n",
    "        inputs = batch[\"input_ids\"].to(model.device)\n",
    "        attention_mask = batch[\"attention_mask\"].to(model.device)\n",
    "        with torch.no_grad():\n",
    "            outputs = model.generate(inputs, attention_mask=attention_mask)\n",
    "        decoded_preds = tokenizer.batch_decode(outputs, skip_special_tokens=True)\n",
    "        decoded_labels = tokenizer.batch_decode(batch[\"labels\"], skip_special_tokens=True)\n",
    "        predictions.extend(decoded_preds)\n",
    "        references.extend(decoded_labels)\n",
    "    return predictions, references\n",
    "\n",
    "# Load the model\n",
    "model = BartForConditionalGeneration.from_pretrained(\"finetuned_bart_summarization1\")\n",
    "tokenizer = BartTokenizer.from_pretrained(\"finetuned_bart_summarization1\")\n",
    "\n",
    "# Prepare the test dataloader\n",
    "test_dataloader = DataLoader(test_dataset, batch_size=10)\n",
    "\n",
    "# Get predictions and references\n",
    "predictions, references = evaluate(model, test_dataloader, tokenizer)\n",
    "print(\"rouge started\")\n",
    "# Load the metric\n",
    "rouge = load_metric(\"rouge\", trust_remote_code=True)\n",
    "\n",
    "# Compute the metrics\n",
    "results = rouge.compute(predictions=predictions, references=references, use_stemmer=True)\n",
    "for key, value in results.items():\n",
    "    print(f\"{key}: {value.mid.fmeasure:.4f}\")\n",
    "\n",
    "print(\"Evaluation completed\")\n"
   ]
  },
  {
   "cell_type": "code",
   "execution_count": 35,
   "metadata": {},
   "outputs": [
    {
     "name": "stdout",
     "output_type": "stream",
     "text": [
      "Summary:\n",
      "– John Travolta’s film Saturday Night Fever was a smash hit in 1977, and has since grossed $285m worldwide. According to the New York Times, the film was inspired by a British mod called Chris. Twenty-four years later it was revealed that the actual inspiration was a British Mod called Chris...Twenty years later, the Times reports that the mod was named Chris. The mod is named Chris, and the film is based on his experience in Los Angeles. \"The mod writes a magazine article about the film, and it's an instant sensation,\" writes the Times. \"He writes a\n"
     ]
    }
   ],
   "source": [
    "from transformers import BartForConditionalGeneration, BartTokenizer\n",
    "import torch\n",
    "\n",
    "# Load the fine-tuned model and tokenizer\n",
    "model_name = \"finetuned_bart_summarization1\"\n",
    "model = BartForConditionalGeneration.from_pretrained(model_name)\n",
    "tokenizer = BartTokenizer.from_pretrained(model_name)\n",
    "\n",
    "# Ensure the model is in evaluation mode\n",
    "model.eval()\n",
    "\n",
    "# Set the device to GPU if available, otherwise CPU\n",
    "device = torch.device(\"cuda\" if torch.cuda.is_available() else \"cpu\")\n",
    "model.to(device)\n",
    "\n",
    "def summarize_article(article_text):\n",
    "    # Tokenize the input text\n",
    "    inputs = tokenizer(article_text, return_tensors=\"pt\", max_length=512, truncation=True)\n",
    "    input_ids = inputs.input_ids.to(device)\n",
    "    attention_mask = inputs.attention_mask.to(device)\n",
    "    \n",
    "    # Generate summary\n",
    "    with torch.no_grad():\n",
    "        summary_ids = model.generate(input_ids, attention_mask=attention_mask, max_length=128, num_beams=4, length_penalty=2.0, early_stopping=True)\n",
    "    \n",
    "    # Decode the summary\n",
    "    summary = tokenizer.decode(summary_ids[0], skip_special_tokens=True)\n",
    "    return summary\n",
    "\n",
    "# Example usage\n",
    "article_text = \"\"\"\n",
    "Based on a ‘real’ story, the hit John Travolta film Saturday Night Fever became the prism through which the world viewed disco. \n",
    "Twenty years later it was revealed that the actual inspiration was a British mod called Chris... NEWLINE_CHAR NEWLINE_CHAR Picture it: \n",
    "a writer pens a magazine article and it’s an instant sensation. Producers come calling, he sells the rights for tens of thousands, \n",
    "the tabloids give him a nickname, acquaintances greet him as a friend, cheques flood in, he attends the premiere of his film in \n",
    "Los Angeles with a famous disco singer on his arm. It’s glitzy, it’s glam, it’s Hollywood, baby. But as he makes his way through \n",
    "the frenzy outside the theatre, through security, paparazzi and screaming teenage girls, he is filled with moral panic. \n",
    "Why? NEWLINE_CHAR NEWLINE_CHAR Saturday Night Fever was released in 1977, and has since grossed $285m worldwide. \n",
    "The soundtrack became one of the bestselling film album of all time after staying at No 1 for 24 consecutive weeks, \n",
    "reinvigorating the Bee Gees’ career, and its star, John Travolta, became one of the youngest actors to be nominated for \n",
    "the best actor Oscar. Decades on, not many remember that the phenomenon was down to one man: Northern Irish rock critic \n",
    "Nik Cohn and his report of 7 June, 1976 for New York magazine, Tribal Rites of the New Saturday Nights, which was published \n",
    "40 years ago this month. NEWLINE_CHAR NEWLINE_CHAR Cohn was the author of a number of books including the 1969 rock history \n",
    "Awopbopaloobop Alopbamboom. A protege of swinging London, he partied with rock stars, joined the Who on tour, and is said by \n",
    "some to have been instrumental in the genesis of Bowie’s Ziggy Stardust. He had his portrait shot by Iain Macmillan – the \n",
    "photographer behind the Beatles’ Abbey Road cover – and from the age of 18 was contributing briefings about mods and rockers to the \n",
    "Observer. After crossing the Atlantic and signing on with New York magazine in 1975, the writer, who came to feel disenchanted with \n",
    "the establishment music business, persuaded the mag’s founder and editor Clay Felker to let him document disco – a new, largely ethnic, \n",
    "largely gay underground trend that had taken over parts of New York City. NEWLINE_CHAR NEWLINE_CHAR The writer was painfully aware that \n",
    "everything Fever had brought him – the fame, the fortune – was the result of a lie NEWLINE_CHAR NEWLINE_CHAR The result was the profile \n",
    "of an “ultimate Face”. Vincent, a young Italian-American worked in a hardware store during the week and partied at a disco club called \n",
    "2001 Odyssey on the weekend. Vincent “was the very best dancer in Bay Ridge … he owned 14 floral shirts, five suits, eight pairs of \n",
    "shoes, three overcoats, and had appeared on American Bandstand”. He and his friends knew nothing of flower power, Bob Dylan or Ken Kesey. \n",
    "They were opulent but poor, proud but shy. “The new generation takes few risks,” Cohn wrote. “It goes through high school, obedient; \n",
    "graduates, looks for a job, saves and plans. Endures. And once a week, on Saturday night, its one great moment of release, it explodes.” \n",
    "The intro declared: “Everything described in this article is factual and was either witnessed by me or told to me directly by the people \n",
    "involved. Only the names of the main characters have been changed.” NEWLINE_CHAR NEWLINE_CHAR Facebook Twitter Pinterest Watch a trailer \n",
    "for Saturday Night Fever NEWLINE_CHAR NEWLINE_CHAR The rest is cinema history: film rights were sold to producer Robert Stigwood, who \n",
    "had just signed a three-picture deal with a young TV actor called John Travolta. Screenwriter Norman Wexler transformed Vincent into Tony \n",
    "Manero. So unprecedented was the fanfare that when Stigwood’s 23-year-old assistant Kevin McCormick traipsed through Los Angeles looking \n",
    "for a director, one agent, according to Vanity Fair, told him, “Kid, my directors do movies. They don’t do magazine articles.” Director \n",
    "John Badham had no such qualms, and in December 1977 his movie took $11m in its first 11 days and Travolta became an overnight sensation. \n",
    "NEWLINE_CHAR NEWLINE_CHAR Twenty years later came a bombshell. In December 1997 New York magazine published an article in which Cohn confessed \n",
    "that there never was a Vincent. There was no “Lisa”, “Billy”, “John James”, “Lorraine” or “Donna” either. While 2001 Odyssey existed, \n",
    "it wasn’t the way the writer described it in 1976. The whole scene of disco-loving Italians, as mythologised in Saturday Night Fever, \n",
    "was exaggerated. The most bizarre detail was that his disco protagonists were in fact based on mods Cohn had known in London. \n",
    "The writer was “painfully aware” that everything Fever had brought him – the fame, the fortune – was the result of a lie. \n",
    "NEWLINE_CHAR NEWLINE_CHAR The real story went like this: in 1976 Cohn met a disco dancer named Tu Sweet, who introduced him \n",
    "to the clubs of New York, including one in Bay Ridge called 2001 Odyssey. One night the two trawled through the underbelly of New York \n",
    "– a land of auto shops, transmission specialists and alignment centres – to find the place. A drunken brawl was in progress and as Cohn \n",
    "opened the cab door one of the guys reeled over the gutter and threw up over his trouser leg. So he just upped and returned to the safe \n",
    "comforts of Manhattan. NEWLINE_CHAR NEWLINE_CHAR One image stayed with the writer, though, that of a figure in flared crimson pants and \n",
    "a black body shirt standing in the doorway of the club and calmly watching the action. There was a style about him, Cohn said, a sense of \n",
    "his own specialness that reminded the writer of a teen gang in his hometown of Derry and a mod named Chris he’d met in London in 1965. \n",
    "NEWLINE_CHAR NEWLINE_CHAR How we made Sister Sledge’s We Are Family Read more NEWLINE_CHAR NEWLINE_CHAR When Cohn went back to Odyssey \n",
    "he didn’t see the young man in the doorway again. “Plus, I made a lousy interviewer,” he wrote. “I knew nothing about this world, and it showed. \n",
    "Quite literally, I didn’t speak the language. So I faked it. I conjured up the story of the figure in the doorway, and named him Vincent. \n",
    "Taking all I knew about the snake-charmer in Derry and, more especially, about Chris the mod in London, I translated them as best I \n",
    "could to Brooklyn. Then I went back to Bay Ridge in daylight and noted the major landmarks. I walked some streets, went into a couple of \n",
    "stores. Studied the clothes, the gestures, the walks. Imagined how it would feel to burn up, all caged energies, with no outlet but the \n",
    "dancefloor and the rituals of Saturday night. Finally, I wrote it all up. And presented it as fact.” NEWLINE_CHAR NEWLINE_CHAR Facebook \n",
    "Twitter Pinterest A premiere party for Saturday Night Fever with NEWLINE_CHAR NEWLINE_CHAR John Travolta, right, next to a bearded Nik Cohn, \n",
    "Travolta’s mother below them, and producer Robert Stigwood (far left). Photograph: Ron Galella/WireImage NEWLINE_CHAR NEWLINE_CHAR So \n",
    "how did he get away with one of the most daring acts of journalistic forgery? While Tribal Rites reads like a novelisation, it must be \n",
    "understood in the context of the time it was written: the tail-end of the era of New Journalism, where writers used literary techniques \n",
    "and a subjective perspective to present fact as fiction. It followed similar works by the likes of Tom Wolfe, Gay Talese, Truman Capote, \n",
    "Hunter S Thompson and Norman Mailer. NEWLINE_CHAR NEWLINE_CHAR When I first approached Cohn for this article, he said he no longer wanted \n",
    "to discuss the topic. But after several back-and-forth emails, he did say that he doubted any magazine would publish the Tribal Rites piece \n",
    "today. “It reads to me as obvious fiction, albeit based on observation and some knowledge of disco culture. No way could it sneak past \n",
    "customs now. In the 60s and 70s, the line between fact and fiction was blurry. Many magazine writers used fictional techniques to tell \n",
    "supposedly factual stories. No end of liberties were taken. Few editors asked tough questions. For the most part it was a case of ‘don’t \n",
    "ask, don’t tell’. NEWLINE_CHAR NEWLINE_CHAR “Magazine writing then was basically a boys’ club. There was a lot of wretched excess. Along \n",
    "with some great writing came reams of self-indulgent bollocks. Tribal Rites being fiction was never a great secret. I remember once, at the \n",
    "end of a long night, blurting out to a publisher that the story was made up. ‘You don’t say,’ the publisher drawled. ‘And Liberace is gay.’” \n",
    "NEWLINE_CHAR NEWLINE_CHAR For context, Gay Talese, now a bestselling author and one of the pioneers of new journalism and author \n",
    "of ‘Frank Sinatra Has a Cold’, explains that his intention as a young journalist was to write short stories using real characters. \n",
    "“I have always been inspired by great short story writers, the first being the French writer Guy de Maupassant,” he said. \n",
    "“Later I also began reading short stories by famous novelists – F Scott Fitzgerald, Ernest Hemingway and more contemporary \n",
    "writers such as John O’Hara, Irwin Shaw, Carson McCullers, John Cheever and others. My newspaper articles were all written as if \n",
    "short stories: there was scene-setting, dialogue, much description of people and places.” But while the articles were presented as \n",
    "stories, they were never fictionalised. “Nothing was invented, all the names of the characters were real, and verifiably truthful.” NEWLINE_CHAR NEWLINE_CHAR Caroline Miller, who edited New York magazine at the time of Cohn’s confession, said her predecessor, Felker, wouldn’t have published Tribal Rites if he thought it fabricated. “That said, remember that 70s Brooklyn was a foreign country to most New York magazine editors,” she told me. “It wasn’t cool, and some of them had probably never been there – even to Brooklyn Heights, which was Norman Mailer territory. So they may not have had good radar for credibility. Also, after the zeitgeisty opening about the blue-collar disco tribe, [Tribal Rites] is all narrative, and that much narrative detail tends to read as real. Conversation in cars. What Vincent was thinking as he looked in the mirror…” NEWLINE_CHAR NEWLINE_CHAR Miller and her team published Cohn’s admission because it was newsworthy. “Here’s a guy basically bragging about fabricating a legendary story and getting away with it,” she said. “And it certainly added to our understanding of pop culture myth-making – the idea that a mashup of people and scenes Nik had collected on both side of the Atlantic could go essentially unchallenged, and have such staying power.” NEWLINE_CHAR NEWLINE_CHAR Facebook Twitter Pinterest Tribal Rites of the New Saturday Night by Nik Cohn as featured on a 1976 New York magazine cover. NEWLINE_CHAR NEWLINE_CHAR Cohn has said that were it not for Jim McMullan’s accompanying illustrations the piece might never have seen daylight. McMullan based these on the photographs he took in 2001 Odyssey but, fundamentally, he never met Cohn’s protagonist. “I went to the club twice and moved around, taking my photos without interacting much with any of the patrons,” McMullan recalled. “Nik took a different path through the crowds so we didn’t exchange notes. NEWLINE_CHAR NEWLINE_CHAR It’s a universal story... working-class kids going out and getting off their heads to American black music Bill Brewster NEWLINE_CHAR NEWLINE_CHAR “I finished my paintings several weeks before Nik finished his story so I wasn’t really reacting to how he saw the scene at the club. It did seem like an amazingly dramatic story arc and the kind of ‘working-class’ story he was already famous for.” NEWLINE_CHAR NEWLINE_CHAR It so happened that the design director of New York magazine, Milton Glaser, was amazed by the reportage style of the paintings. “Clay also came to see the work that way... I suspect that because the art was all ready to go before Nik finished writing, it put some pressure on him to get it written. Had the paintings not already impressed Milton and Clay, I suppose it might have been easier to scuttle the whole project.” NEWLINE_CHAR NEWLINE_CHAR Did McMullan’s art indicate a truth to the piece? While Cohn’s descriptions of the club’s “Faces” were based on the working class in England, they weren’t entirely off the mark. NEWLINE_CHAR NEWLINE_CHAR “Just like the Italian-Americans, the mods shopped for that perfect shirt,” Colleen “Cosmo” Murphy, an American radio broadcaster, DJ, producer and founder of Classic Album Sundays, explained to me over coffee in London one morning. “It was about looking like they were better off than they really were, sticking their money into things like music and clothes. They bought records, certain types of trousers, certain types of jackets. It was an attitude. NEWLINE_CHAR NEWLINE_CHAR “It’s that culture of people who have their regular job during the week and live to go out on the weekend. A blue-collar worker in Brooklyn isn’t going to be defined by their job. Who they really are is who they are when they go out. Just like a mod. A mod might be bricklayer, but they’re a mod.” NEWLINE_CHAR NEWLINE_CHAR Bill Brewster, former editor of Mixmag USA and founder of Djhistory.com, echoed this: “It’s a universal story that had been going on for decades even before there were DJs playing records,” he said. “Working-class kids going out on a Friday and Saturday and getting off their heads to American black music. It was happening in the cellars of Paris during the occupation in terms of jazz records. Those archetypes, even though Cohn based them on people in London, were obviously happening in New York as well. I think it was an educated guess on his part, and a correct one.” NEWLINE_CHAR NEWLINE_CHAR Facebook Twitter Pinterest The multi-million-selling soundtrack album featured hits from the Bee Gees and topped the US chart for 24 consecutive weeks. NEWLINE_CHAR NEWLINE_CHAR Disco as a genre and culture had already been gathering pace in New York so Saturday Night Fever was just the tipping point of something that had been going on for a while. “Even before disco was officially called disco, you had David Mancuso’s loft parties, in the late 60s, in downtown Manhattan, where he played danceable acid-rock, R&B, mixing it all up,” said Murphy, who has collaborated with Mancuso in the past. NEWLINE_CHAR NEWLINE_CHAR “They were all about integrating different kinds of people, whether it was class, race, sexual orientation. People like David Morales and Larry Levan were going as kids. At the same time Francis Grasso became the first DJ to start mixing records together with two turntables. In the mid-70s these other clubs started rising – Studio 54, which was the glitzy manhattan club, where Andy Warhol, Grace Jones and Liza Minelli hung out, and places like 2001 Odyssey, which were for the working-class Brooklynites.” NEWLINE_CHAR NEWLINE_CHAR But in the end it was Cohn’s article and Saturday Night Fever that gave the decade its cultural identity. “As a child I was living in Massachusetts, in a white suburban New England small town, listening to rock and pop ,” Murphy said. “Then this article happened, the movie came out and disco blew up across white America overnight. Me and my friends would dance to the soundtrack at slumber parties. I had aunts and uncles who were taking disco-dancing lessons.” NEWLINE_CHAR NEWLINE_CHAR Build, baby, build: when radical architects did disco Read more NEWLINE_CHAR NEWLINE_CHAR Then came the backlash. DJ Steve Dahl headed up a Disco Demolition Night in Chicago in July 1979. People wore “disco sucks” T-shirts. The Bee Gees became cheesy, Chic became cheesy, and by the 80s disco was a dirty word. “Saturday Night Fever was probably the thing that killed off disco in the end,” Murphy said. NEWLINE_CHAR NEWLINE_CHAR Cohn, now 70, lives in Ghent, New York. His life reads like a blockbuster of its own – after Tribal Rites he continued writing, true stories mostly, and in 1983 was arrested for conspiring to import millions of dollars worth of heroin and cocaine into the US. The more serious charges were dropped and Cohn was given five years’ probation for possession. His life, the writer then realised, had been unravelling and it was time for a change. “Why did I decide to come clean in 1997? It simply felt like time,” he told me. “What seemed OK to me when I was young and stoned no longer sat right. Accountability, let’s say.” NEWLINE_CHAR NEWLINE_CHAR Cohn has always maintained that what was genuine was the staying power of Saturday Night Fever itself. That central figure, with all his grace, energy and passion. A nobody who once a week was a somebody. “Tribal Rites is about identity,” he said. “Finding a place in the world where you can shine. What still resonates, to me at least, is the sense of yearning. If I was writing the story today, Vincent might be trans…” ||||| Based on a ‘real’ story, the hit John Travolta film Saturday Night Fever became the prism through which the world viewed disco. Twenty years later it was revealed that the actual inspiration was a British mod called Chris... NEWLINE_CHAR NEWLINE_CHAR Picture it: a writer pens a magazine article and it’s an instant sensation. Producers come calling, he sells the rights for tens of thousands, the tabloids give him a nickname, acquaintances greet him as a friend, cheques flood in, he attends the premiere of his film in Los Angeles with a famous disco singer on his arm. It’s glitzy, it’s glam, it’s Hollywood, baby. But as he makes his way through the frenzy outside the theatre, through security, paparazzi and screaming teenage girls, he is filled with moral panic. Why? NEWLINE_CHAR NEWLINE_CHAR Saturday Night Fever was released in 1977, and has since grossed $285m worldwide. The soundtrack became one of the bestselling film album of all time after staying at No 1 for 24 consecutive weeks, reinvigorating the Bee Gees’ career, and its star, John Travolta, became one of the youngest actors to be nominated for the best actor Oscar. Decades on, not many remember that the phenomenon was down to one man: Northern Irish rock critic Nik Cohn and his report of 7 June, 1976 for New York magazine, Tribal Rites of the New Saturday Nights, which was published 40 years ago this month. NEWLINE_CHAR NEWLINE_CHAR Cohn was the author of a number of books including the 1969 rock history Awopbopaloobop Alopbamboom. A protege of swinging London, he partied with rock stars, joined the Who on tour, and is said by some to have been instrumental in the genesis of Bowie’s Ziggy Stardust. He had his portrait shot by Iain Macmillan – the photographer behind the Beatles’ Abbey Road cover – and from the age of 18 was contributing briefings about mods and rockers to the Observer. After crossing the Atlantic and signing on with New York magazine in 1975, the writer, who came to feel disenchanted with the establishment music business, persuaded the mag’s founder and editor Clay Felker to let him document disco – a new, largely ethnic, largely gay underground trend that had taken over parts of New York City. NEWLINE_CHAR NEWLINE_CHAR The writer was painfully aware that everything Fever had brought him – the fame, the fortune – was the result of a lie NEWLINE_CHAR NEWLINE_CHAR The result was the profile of an “ultimate Face”. Vincent, a young Italian-American worked in a hardware store during the week and partied at a disco club called 2001 Odyssey on the weekend. Vincent “was the very best dancer in Bay Ridge … he owned 14 floral shirts, five suits, eight pairs of shoes, three overcoats, and had appeared on American Bandstand”. He and his friends knew nothing of flower power, Bob Dylan or Ken Kesey. They were opulent but poor, proud but shy. “The new generation takes few risks,” Cohn wrote. “It goes through high school, obedient; graduates, looks for a job, saves and plans. Endures. And once a week, on Saturday night, its one great moment of release, it explodes.” The intro declared: “Everything described in this article is factual and was either witnessed by me or told to me directly by the people involved. Only the names of the main characters have been changed.” NEWLINE_CHAR NEWLINE_CHAR Facebook Twitter Pinterest Watch a trailer for Saturday Night Fever NEWLINE_CHAR NEWLINE_CHAR The rest is cinema history: film rights were sold to producer Robert Stigwood, who had just signed a three-picture deal with a young TV actor called John Travolta. Screenwriter Norman Wexler transformed Vincent into Tony Manero. So unprecedented was the fanfare that when Stigwood’s 23-year-old assistant Kevin McCormick traipsed through Los Angeles looking for a director, one agent, according to Vanity Fair, told him, “Kid, my directors do movies. They don’t do magazine articles.” Director John Badham had no such qualms, and in December 1977 his movie took $11m in its first 11 days and Travolta became an overnight sensation. NEWLINE_CHAR NEWLINE_CHAR Twenty years later came a bombshell. In December 1997 New York magazine published an article in which Cohn confessed that there never was a Vincent. There was no “Lisa”, “Billy”, “John James”, “Lorraine” or “Donna” either. While 2001 Odyssey existed, it wasn’t the way the writer described it in 1976. The whole scene of disco-loving Italians, as mythologised in Saturday Night Fever, was exaggerated. The most bizarre detail was that his disco protagonists were in fact based on mods Cohn had known in London. The writer was “painfully aware” that everything Fever had brought him – the fame, the fortune – was the result of a lie. NEWLINE_CHAR NEWLINE_CHAR The real story went like this: in 1976 Cohn met a disco dancer named Tu Sweet, who introduced him to the clubs of New York, including one in Bay Ridge called 2001 Odyssey. One night the two trawled through the underbelly of New York – a land of auto shops, transmission specialists and alignment centres – to find the place. A drunken brawl was in progress and as Cohn opened the cab door one of the guys reeled over the gutter and threw up over his trouser leg. So he just upped and returned to the safe comforts of Manhattan. NEWLINE_CHAR NEWLINE_CHAR One image stayed with the writer, though, that of a figure in flared crimson pants and a black body shirt standing in the doorway of the club and calmly watching the action. There was a style about him, Cohn said, a sense of his own specialness that reminded the writer of a teen gang in his hometown of Derry and a mod named Chris he’d met in London in 1965. NEWLINE_CHAR NEWLINE_CHAR How we made Sister Sledge’s We Are Family Read more NEWLINE_CHAR NEWLINE_CHAR When Cohn went back to Odyssey he didn’t see the young man in the doorway again. “Plus, I made a lousy interviewer,” he wrote. “I knew nothing about this world, and it showed. Quite literally, I didn’t speak the language. So I faked it. I conjured up the story of the figure in the doorway, and named him Vincent. Taking all I knew about the snake-charmer in Derry and, more especially, about Chris the mod in London, I translated them as best I could to Brooklyn. Then I went back to Bay Ridge in daylight and noted the major landmarks. I walked some streets, went into a couple of stores. Studied the clothes, the gestures, the walks. Imagined how it would feel to burn up, all caged energies, with no outlet but the dancefloor and the rituals of Saturday night. Finally, I wrote it all up. And presented it as fact.” NEWLINE_CHAR NEWLINE_CHAR Facebook Twitter Pinterest A premiere party for Saturday Night Fever with NEWLINE_CHAR NEWLINE_CHAR John Travolta, right, next to a bearded Nik Cohn, Travolta’s mother below them, and producer Robert Stigwood (far left). Photograph: Ron Galella/WireImage NEWLINE_CHAR NEWLINE_CHAR So how did he get away with one of the most daring acts of journalistic forgery? While Tribal Rites reads like a novelisation, it must be understood in the context of the time it was written: the tail-end of the era of New Journalism, where writers used literary techniques and a subjective perspective to present fact as fiction. It followed similar works by the likes of Tom Wolfe, Gay Talese, Truman Capote, Hunter S Thompson and Norman Mailer. NEWLINE_CHAR NEWLINE_CHAR When I first approached Cohn for this article, he said he no longer wanted to discuss the topic. But after several back-and-forth emails, he did say that he doubted any magazine would publish the Tribal Rites piece today. “It reads to me as obvious fiction, albeit based on observation and some knowledge of disco culture. No way could it sneak past customs now. In the 60s and 70s, the line between fact and fiction was blurry. Many magazine writers used fictional techniques to tell supposedly factual stories. No end of liberties were taken. Few editors asked tough questions. For the most part it was a case of ‘don’t ask, don’t tell’. NEWLINE_CHAR NEWLINE_CHAR “Magazine writing then was basically a boys’ club. There was a lot of wretched excess. Along with some great writing came reams of self-indulgent bollocks. Tribal Rites being fiction was never a great secret. I remember once, at the end of a long night, blurting out to a publisher that the story was made up. ‘You don’t say,’ the publisher drawled. ‘And Liberace is gay.’” NEWLINE_CHAR NEWLINE_CHAR For context, Gay Talese, now a bestselling author and one of the pioneers of new journalism and author of ‘Frank Sinatra Has a Cold’, explains that his intention as a young journalist was to write short stories using real characters. “I have always been inspired by great short story writers, the first being the French writer Guy de Maupassant,” he said. “Later I also began reading short stories by famous novelists – F Scott Fitzgerald, Ernest Hemingway and more contemporary writers such as John O’Hara, Irwin Shaw, Carson McCullers, John Cheever and others. My newspaper articles were all written as if short stories: there was scene-setting, dialogue, much description of people and places.” But while the articles were presented as stories, they were never fictionalised. “Nothing was invented, all the names of the characters were real, and verifiably truthful.” NEWLINE_CHAR NEWLINE_CHAR Caroline Miller, who edited New York magazine at the time of Cohn’s confession, said her predecessor, Felker, wouldn’t have published Tribal Rites if he thought it fabricated. “That said, remember that 70s Brooklyn was a foreign country to most New York magazine editors,” she told me. “It wasn’t cool, and some of them had probably never been there – even to Brooklyn Heights, which was Norman Mailer territory. So they may not have had good radar for credibility. Also, after the zeitgeisty opening about the blue-collar disco tribe, [Tribal Rites] is all narrative, and that much narrative detail tends to read as real. Conversation in cars. What Vincent was thinking as he looked in the mirror…” NEWLINE_CHAR NEWLINE_CHAR Miller and her team published Cohn’s admission because it was newsworthy. “Here’s a guy basically bragging about fabricating a legendary story and getting away with it,” she said. “And it certainly added to our understanding of pop culture myth-making – the idea that a mashup of people and scenes Nik had collected on both side of the Atlantic could go essentially unchallenged, and have such staying power.” NEWLINE_CHAR NEWLINE_CHAR Facebook Twitter Pinterest Tribal Rites of the New Saturday Night by Nik Cohn as featured on a 1976 New York magazine cover. NEWLINE_CHAR NEWLINE_CHAR Cohn has said that were it not for Jim McMullan’s accompanying illustrations the piece might never have seen daylight. McMullan based these on the photographs he took in 2001 Odyssey but, fundamentally, he never met Cohn’s protagonist. “I went to the club twice and moved around, taking my photos without interacting much with any of the patrons,” McMullan recalled. “Nik took a different path through the crowds so we didn’t exchange notes. NEWLINE_CHAR NEWLINE_CHAR It’s a universal story... working-class kids going out and getting off their heads to American black music Bill Brewster NEWLINE_CHAR NEWLINE_CHAR “I finished my paintings several weeks before Nik finished his story so I wasn’t really reacting to how he saw the scene at the club. It did seem like an amazingly dramatic story arc and the kind of ‘working-class’ story he was already famous for.” NEWLINE_CHAR NEWLINE_CHAR It so happened that the design director of New York magazine, Milton Glaser, was amazed by the reportage style of the paintings. “Clay also came to see the work that way... I suspect that because the art was all ready to go before Nik finished writing, it put some pressure on him to get it written. Had the paintings not already impressed Milton and Clay, I suppose it might have been easier to scuttle the whole project.” NEWLINE_CHAR NEWLINE_CHAR Did McMullan’s art indicate a truth to the piece? While Cohn’s descriptions of the club’s “Faces” were based on the working class in England, they weren’t entirely off the mark. NEWLINE_CHAR NEWLINE_CHAR “Just like the Italian-Americans, the mods shopped for that perfect shirt,” Colleen “Cosmo” Murphy, an American radio broadcaster, DJ, producer and founder of Classic Album Sundays, explained to me over coffee in London one morning. “It was about looking like they were better off than they really were, sticking their money into things like music and clothes. They bought records, certain types of trousers, certain types of jackets. It was an attitude. NEWLINE_CHAR NEWLINE_CHAR “It’s that culture of people who have their regular job during the week and live to go out on the weekend. A blue-collar worker in Brooklyn isn’t going to be defined by their job. Who they really are is who they are when they go out. Just like a mod. A mod might be bricklayer, but they’re a mod.” NEWLINE_CHAR NEWLINE_CHAR Bill Brewster, former editor of Mixmag USA and founder of Djhistory.com, echoed this: “It’s a universal story that had been going on for decades even before there were DJs playing records,” he said. “Working-class kids going out on a Friday and Saturday and getting off their heads to American black music. It was happening in the cellars of Paris during the occupation in terms of jazz records. Those archetypes, even though Cohn based them on people in London, were obviously happening in New York as well. I think it was an educated guess on his part, and a correct one.” NEWLINE_CHAR NEWLINE_CHAR Facebook Twitter Pinterest The multi-million-selling soundtrack album featured hits from the Bee Gees and topped the US chart for 24 consecutive weeks. NEWLINE_CHAR NEWLINE_CHAR Disco as a genre and culture had already been gathering pace in New York so Saturday Night Fever was just the tipping point of something that had been going on for a while. “Even before disco was officially called disco, you had David Mancuso’s loft parties, in the late 60s, in downtown Manhattan, where he played danceable acid-rock, R&B, mixing it all up,” said Murphy, who has collaborated with Mancuso in the past. NEWLINE_CHAR NEWLINE_CHAR “They were all about integrating different kinds of people, whether it was class, race, sexual orientation. People like David Morales and Larry Levan were going as kids. At the same time Francis Grasso became the first DJ to start mixing records together with two turntables. In the mid-70s these other clubs started rising – Studio 54, which was the glitzy manhattan club, where Andy Warhol, Grace Jones and Liza Minelli hung out, and places like 2001 Odyssey, which were for the working-class Brooklynites.” NEWLINE_CHAR NEWLINE_CHAR But in the end it was Cohn’s article and Saturday Night Fever that gave the decade its cultural identity. “As a child I was living in Massachusetts, in a white suburban New England small town, listening to rock and pop ,” Murphy said. “Then this article happened, the movie came out and disco blew up across white America overnight. Me and my friends would dance to the soundtrack at slumber parties. I had aunts and uncles who were taking disco-dancing lessons.” NEWLINE_CHAR NEWLINE_CHAR Build, baby, build: when radical architects did disco Read more NEWLINE_CHAR NEWLINE_CHAR Then came the backlash. DJ Steve Dahl headed up a Disco Demolition Night in Chicago in July 1979. People wore “disco sucks” T-shirts. The Bee Gees became cheesy, Chic became cheesy, and by the 80s disco was a dirty word. “Saturday Night Fever was probably the thing that killed off disco in the end,” Murphy said. NEWLINE_CHAR NEWLINE_CHAR Cohn, now 70, lives in Ghent, New York. His life reads like a blockbuster of its own – after Tribal Rites he continued writing, true stories mostly, and in 1983 was arrested for conspiring to import millions of dollars worth of heroin and cocaine into the US. The more serious charges were dropped and Cohn was given five years’ probation for possession. His life, the writer then realised, had been unravelling and it was time for a change. “Why did I decide to come clean in 1997? It simply felt like time,” he told me. “What seemed OK to me when I was young and stoned no longer sat right. Accountability, let’s say.” NEWLINE_CHAR NEWLINE_CHAR Cohn has always maintained that what was genuine was the staying power of Saturday Night Fever itself. That central figure, with all his grace, energy and passion. A nobody who once a week was a somebody. “Tribal Rites is about identity,” he said. “Finding a place in the world where you can shine. What still resonates, to me at least, is the sense of yearning. If I was writing the story today, Vincent might be trans…”\n",
    "\"\"\"\n",
    "\n",
    "summary = summarize_article(article_text)\n",
    "print(\"Summary:\")\n",
    "print(summary)\n"
   ]
  },
  {
   "cell_type": "code",
   "execution_count": 18,
   "metadata": {},
   "outputs": [
    {
     "name": "stdout",
     "output_type": "stream",
     "text": [
      "Collecting absl-py"
     ]
    },
    {
     "name": "stderr",
     "output_type": "stream",
     "text": [
      "\n",
      "[notice] A new release of pip is available: 24.0 -> 24.1.1\n",
      "[notice] To update, run: python.exe -m pip install --upgrade pip\n"
     ]
    },
    {
     "name": "stdout",
     "output_type": "stream",
     "text": [
      "\n",
      "  Downloading absl_py-2.1.0-py3-none-any.whl.metadata (2.3 kB)\n",
      "Collecting rouge-score\n",
      "  Downloading rouge_score-0.1.2.tar.gz (17 kB)\n",
      "  Installing build dependencies: started\n",
      "  Installing build dependencies: finished with status 'done'\n",
      "  Getting requirements to build wheel: started\n",
      "  Getting requirements to build wheel: finished with status 'done'\n",
      "  Preparing metadata (pyproject.toml): started\n",
      "  Preparing metadata (pyproject.toml): finished with status 'done'\n",
      "Requirement already satisfied: nltk in c:\\users\\krishna\\appdata\\local\\programs\\python\\python312\\lib\\site-packages (from rouge-score) (3.8.1)\n",
      "Requirement already satisfied: numpy in c:\\users\\krishna\\appdata\\local\\programs\\python\\python312\\lib\\site-packages (from rouge-score) (1.26.4)\n",
      "Requirement already satisfied: six>=1.14.0 in c:\\users\\krishna\\appdata\\local\\programs\\python\\python312\\lib\\site-packages (from rouge-score) (1.16.0)\n",
      "Requirement already satisfied: click in c:\\users\\krishna\\appdata\\local\\programs\\python\\python312\\lib\\site-packages (from nltk->rouge-score) (8.1.7)\n",
      "Requirement already satisfied: joblib in c:\\users\\krishna\\appdata\\local\\programs\\python\\python312\\lib\\site-packages (from nltk->rouge-score) (1.4.2)\n",
      "Requirement already satisfied: regex>=2021.8.3 in c:\\users\\krishna\\appdata\\local\\programs\\python\\python312\\lib\\site-packages (from nltk->rouge-score) (2024.5.15)\n",
      "Requirement already satisfied: tqdm in c:\\users\\krishna\\appdata\\local\\programs\\python\\python312\\lib\\site-packages (from nltk->rouge-score) (4.66.4)\n",
      "Requirement already satisfied: colorama in c:\\users\\krishna\\appdata\\local\\programs\\python\\python312\\lib\\site-packages (from click->nltk->rouge-score) (0.4.6)\n",
      "Downloading absl_py-2.1.0-py3-none-any.whl (133 kB)\n",
      "   ---------------------------------------- 0.0/133.7 kB ? eta -:--:--\n",
      "   --- ------------------------------------ 10.2/133.7 kB ? eta -:--:--\n",
      "   ----------------- --------------------- 61.4/133.7 kB 656.4 kB/s eta 0:00:01\n",
      "   -------------------------------------  133.1/133.7 kB 983.0 kB/s eta 0:00:01\n",
      "   -------------------------------------- 133.7/133.7 kB 875.6 kB/s eta 0:00:00\n",
      "Building wheels for collected packages: rouge-score\n",
      "  Building wheel for rouge-score (pyproject.toml): started\n",
      "  Building wheel for rouge-score (pyproject.toml): finished with status 'done'\n",
      "  Created wheel for rouge-score: filename=rouge_score-0.1.2-py3-none-any.whl size=24974 sha256=cf8c6560c64f49f35d5dc1eec5010fad0231e24407682a051d7178b0339cb44a\n",
      "  Stored in directory: c:\\users\\krishna\\appdata\\local\\pip\\cache\\wheels\\85\\9d\\af\\01feefbe7d55ef5468796f0c68225b6788e85d9d0a281e7a70\n",
      "Successfully built rouge-score\n",
      "Installing collected packages: absl-py, rouge-score\n",
      "Successfully installed absl-py-2.1.0 rouge-score-0.1.2\n"
     ]
    }
   ],
   "source": [
    "!pip install absl-py rouge-score"
   ]
  }
 ],
 "metadata": {
  "kernelspec": {
   "display_name": "Python 3 (ipykernel)",
   "language": "python",
   "name": "python3"
  },
  "language_info": {
   "codemirror_mode": {
    "name": "ipython",
    "version": 3
   },
   "file_extension": ".py",
   "mimetype": "text/x-python",
   "name": "python",
   "nbconvert_exporter": "python",
   "pygments_lexer": "ipython3",
   "version": "3.12.4"
  }
 },
 "nbformat": 4,
 "nbformat_minor": 4
}
